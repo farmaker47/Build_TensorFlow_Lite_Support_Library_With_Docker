{
  "nbformat": 4,
  "nbformat_minor": 0,
  "metadata": {
    "colab": {
      "name": "model_zoo.ipynb",
      "provenance": [],
      "collapsed_sections": []
    },
    "kernelspec": {
      "name": "python3",
      "display_name": "Python 3"
    },
    "language_info": {
      "name": "python"
    }
  },
  "cells": [
    {
      "cell_type": "code",
      "metadata": {
        "id": "7J8nbeQezyv_"
      },
      "source": [
        "!wget http://download.tensorflow.org/models/object_detection/ssd_mobilenet_v1_fpn_shared_box_predictor_640x640_coco14_sync_2018_07_03.tar.gz\n",
        "!tar -xzvf \"/content/ssd_mobilenet_v1_fpn_shared_box_predictor_640x640_coco14_sync_2018_07_03.tar.gz\" -C \"/content/\""
      ],
      "execution_count": null,
      "outputs": []
    },
    {
      "cell_type": "code",
      "metadata": {
        "id": "nUTc4wURz0ZH"
      },
      "source": [
        "!wget http://download.tensorflow.org/models/object_detection/ssd_mobilenet_v2_mnasfpn_shared_box_predictor_320x320_coco_sync_2020_05_18.tar.gz\n",
        "!tar -xzvf \"/content/ssd_mobilenet_v2_mnasfpn_shared_box_predictor_320x320_coco_sync_2020_05_18.tar.gz\" -C \"/content/\""
      ],
      "execution_count": null,
      "outputs": []
    },
    {
      "cell_type": "code",
      "metadata": {
        "id": "5yPKlAYdz0lx"
      },
      "source": [
        "!wget http://download.tensorflow.org/models/object_detection/ssd_mobilenet_v3_large_coco_2020_01_14.tar.gz\n",
        "!tar -xzvf \"/content/ssd_mobilenet_v3_large_coco_2020_01_14.tar.gz\" -C \"/content/\""
      ],
      "execution_count": null,
      "outputs": []
    },
    {
      "cell_type": "code",
      "metadata": {
        "id": "Oc42pRWa1SOV"
      },
      "source": [
        "!wget http://download.tensorflow.org/models/object_detection/ssd_mobilenet_v3_small_coco_2020_01_14.tar.gz\n",
        "!tar -xzvf \"/content/ssd_mobilenet_v3_small_coco_2020_01_14.tar.gz\" -C \"/content/\""
      ],
      "execution_count": null,
      "outputs": []
    },
    {
      "cell_type": "code",
      "metadata": {
        "id": "1T0hRwF0z0x4"
      },
      "source": [
        "!wget http://download.tensorflow.org/models/object_detection/ssd_mobilenet_v2_coco_2018_03_29.tar.gz\n",
        "!tar -xzvf \"/content/ssd_mobilenet_v2_coco_2018_03_29.tar.gz\" -C \"/content/\""
      ],
      "execution_count": null,
      "outputs": []
    },
    {
      "cell_type": "code",
      "source": [
        "import tensorflow as tf\n",
        "print(tf.__version__)\n",
        "\n",
        "import numpy as np"
      ],
      "metadata": {
        "id": "UG7uJz8y7rl-"
      },
      "execution_count": null,
      "outputs": []
    },
    {
      "cell_type": "code",
      "source": [
        "# working\n",
        "model = tf.saved_model.load('/content/ssd_mobilenet_v1_fpn_shared_box_predictor_640x640_coco14_sync_2018_07_03/saved_model')\n",
        "concrete_func = model.signatures[\n",
        "tf.saved_model.DEFAULT_SERVING_SIGNATURE_DEF_KEY]\n",
        "concrete_func.inputs[0].set_shape([1, 300, 300, 3])\n",
        "\n",
        "converter = tf.lite.TFLiteConverter.from_concrete_functions([concrete_func])\n",
        "converter.optimizations = [tf.lite.Optimize.DEFAULT]\n",
        "converter.target_spec.supported_ops = [tf.lite.OpsSet.TFLITE_BUILTINS, tf.lite.OpsSet.SELECT_TF_OPS]\n",
        "\n",
        "tflite_model = converter.convert()\n",
        "\n",
        "with open('detect.tflite', 'wb') as f:\n",
        "  f.write(tflite_model)"
      ],
      "metadata": {
        "id": "H5NgPj0UFErM"
      },
      "execution_count": null,
      "outputs": []
    },
    {
      "cell_type": "code",
      "source": [
        "# non working\n",
        "converter = tf.compat.v1.lite.TFLiteConverter.from_frozen_graph(\n",
        "    graph_def_file='/content/ssd_mobilenet_v1_fpn_shared_box_predictor_640x640_coco14_sync_2018_07_03/saved_model/saved_model.pb', \n",
        "    input_arrays=['image_tensor'],\n",
        "    output_arrays=['detection_boxes', 'detection_classes', 'detection_scores', 'num_detections'],\n",
        "    input_shapes={'image_tensor': [1, 300, 300, 3]}\n",
        ")\n",
        "converter.optimizations = [tf.lite.Optimize.DEFAULT]\n",
        "converter.target_spec.supported_ops = [tf.lite.OpsSet.TFLITE_BUILTINS, tf.lite.OpsSet.SELECT_TF_OPS]\n",
        "\n",
        "tflite_model = converter.convert()\n",
        "with open('detect.tflite', 'wb') as f:\n",
        "  f.write(tflite_model)"
      ],
      "metadata": {
        "id": "qFR6_KKN71s-"
      },
      "execution_count": null,
      "outputs": []
    },
    {
      "cell_type": "code",
      "source": [
        "# print layers\n",
        "def print_layers(graph_def):\n",
        "    def _imports_graph_def():\n",
        "        tf.compat.v1.import_graph_def(graph_def, name=\"\")\n",
        "\n",
        "    wrapped_import = tf.compat.v1.wrap_function(_imports_graph_def, [])\n",
        "    import_graph = wrapped_import.graph\n",
        "\n",
        "    print(\"-\" * 50)\n",
        "    print(\"Frozen model layers: \")\n",
        "    layers = [op.name for op in import_graph.get_operations()]\n",
        "    ops = import_graph.get_operations()\n",
        "    print(ops[0])\n",
        "    print(\"Input layer: \", layers[0])\n",
        "    print(\"Output layer: \", layers)\n",
        "    print(\"-\" * 50)\n",
        "\n",
        "# Load frozen graph using TensorFlow 1.x functions\n",
        "with tf.io.gfile.GFile(\"/content/ssd_mobilenet_v1_fpn_shared_box_predictor_640x640_coco14_sync_2018_07_03/frozen_inference_graph.pb\", \"rb\") as f:\n",
        "    graph_def = tf.compat.v1.GraphDef()\n",
        "    loaded = graph_def.ParseFromString(f.read())\n",
        "\n",
        "frozen_func = print_layers(graph_def=graph_def)"
      ],
      "metadata": {
        "id": "0bOjUexv_BvS"
      },
      "execution_count": null,
      "outputs": []
    },
    {
      "cell_type": "markdown",
      "source": [
        "Below clone tensorflow and use bazel to run command"
      ],
      "metadata": {
        "id": "F9Wpji5Z8H0_"
      }
    },
    {
      "cell_type": "code",
      "metadata": {
        "id": "1vuUa5Hcz09V"
      },
      "source": [
        "!git clone https://github.com/tensorflow/tensorflow.git\n",
        "#!git clone https://github.com/tensorflow/models.git\n",
        "#!git clone --branch archive https://github.com/tensorflow/models.git"
      ],
      "execution_count": null,
      "outputs": []
    },
    {
      "cell_type": "code",
      "metadata": {
        "id": "FB5eriAR7uAS"
      },
      "source": [
        "# Download Latest version of Bazelisk\n",
        "!wget https://github.com/bazelbuild/bazelisk/releases/latest/download/bazelisk-linux-amd64\n",
        "\n",
        "# Make script executable\n",
        "!chmod +x bazelisk-linux-amd64\n",
        "\n",
        "# Adding to the path\n",
        "!sudo mv bazelisk-linux-amd64 /usr/local/bin/bazel\n"
      ],
      "execution_count": null,
      "outputs": []
    },
    {
      "cell_type": "code",
      "metadata": {
        "id": "RUPyGRqa7uL5"
      },
      "source": [
        "# Bazel info.\n",
        "!bazel"
      ],
      "execution_count": null,
      "outputs": []
    },
    {
      "cell_type": "code",
      "metadata": {
        "id": "YXJn4PCJAU8p"
      },
      "source": [
        "cd tensorflow"
      ],
      "execution_count": null,
      "outputs": []
    },
    {
      "cell_type": "code",
      "source": [
        "!ls"
      ],
      "metadata": {
        "id": "XPLm80I-ryiE"
      },
      "execution_count": null,
      "outputs": []
    },
    {
      "cell_type": "code",
      "metadata": {
        "id": "W-oAtyNw9P1t"
      },
      "source": [
        "!bazel run -c opt tensorflow/lite/python:tflite_convert -- \\\n",
        "--enable_v1_converter \\\n",
        "--graph_def_file='/content/ssd_mobilenet_v2_coco_2018_03_29/frozen_inference_graph.pb' \\\n",
        "--output_file='/content/ssd_mobilenet_v2_coco_2018_03_29/detect.tflite' \\\n",
        "--input_shapes=1,300,300,3 \\\n",
        "--input_arrays=normalized_input_image_tensor \\\n",
        "--output_arrays='TFLite_Detection_PostProcess','TFLite_Detection_PostProcess:1','TFLite_Detection_PostProcess:2','TFLite_Detection_PostProcess:3' \\\n",
        "--inference_type=QUANTIZED_UINT8 \\\n",
        "--mean_values=128 \\\n",
        "--std_dev_values=128 \\\n",
        "--change_concat_input_ranges=false \\\n",
        "--allow_custom_ops"
      ],
      "execution_count": null,
      "outputs": []
    },
    {
      "cell_type": "code",
      "source": [
        ""
      ],
      "metadata": {
        "id": "PWJsrUE3owYh"
      },
      "execution_count": null,
      "outputs": []
    },
    {
      "cell_type": "code",
      "metadata": {
        "id": "RDiLe3xy-Ufn"
      },
      "source": [
        "# Load the TFLite model and allocate tensors.\n",
        "interpreter = tf.lite.Interpreter(model_path=\"model.tflite\")\n",
        "interpreter.allocate_tensors()\n",
        "\n",
        "# Get input and output tensors.\n",
        "input_details = interpreter.get_input_details()\n",
        "print(input_details)\n",
        "output_details = interpreter.get_output_details()\n",
        "\n",
        "# Test the model on random input data.\n",
        "input_shape = input_details[0]['shape']\n",
        "input_data = np.array([[0.195312]], dtype=np.float32)\n",
        "interpreter.set_tensor(input_details[0]['index'], input_data)\n",
        "\n",
        "interpreter.invoke()\n",
        "\n",
        "# The function `get_tensor()` returns a copy of the tensor data.\n",
        "# Use `tensor()` in order to get a pointer to the tensor.\n",
        "output_data = interpreter.get_tensor(output_details[0]['index'])\n",
        "print(output_data)"
      ],
      "execution_count": null,
      "outputs": []
    },
    {
      "cell_type": "code",
      "source": [
        ""
      ],
      "metadata": {
        "id": "i0vQH3WHpE5w"
      },
      "execution_count": null,
      "outputs": []
    },
    {
      "cell_type": "code",
      "source": [
        ""
      ],
      "metadata": {
        "id": "Y3SHq095pFFg"
      },
      "execution_count": null,
      "outputs": []
    },
    {
      "cell_type": "code",
      "metadata": {
        "id": "KZFTsr6UArzT"
      },
      "source": [
        "cd ../"
      ],
      "execution_count": null,
      "outputs": []
    },
    {
      "cell_type": "code",
      "metadata": {
        "id": "nW2446v07t0Y"
      },
      "source": [
        "%env CONFIG_FILE='/content/ssd_mobilenet_v2_coco_2018_03_29/pipeline.config'\n",
        "%env CHECKPOINT_PATH='/content/ssd_mobilenet_v2_coco_2018_03_29/model.ckpt.meta'\n",
        "%env OUTPUT_DIR=/tmp/tflite\n",
        "\n",
        "!export -p"
      ],
      "execution_count": null,
      "outputs": []
    },
    {
      "cell_type": "code",
      "metadata": {
        "id": "TLPAgM2QKozs"
      },
      "source": [
        "!find . -name \"setup.py\""
      ],
      "execution_count": null,
      "outputs": []
    },
    {
      "cell_type": "code",
      "metadata": {
        "id": "ZTfyU9_GGl_X"
      },
      "source": [
        "#!export PYTHONPATH=$PYTHONPATH:`pwd`:`pwd`/slim\n",
        "!sudo python setup.py install"
      ],
      "execution_count": null,
      "outputs": []
    },
    {
      "cell_type": "code",
      "metadata": {
        "id": "qTWI5tgvHH0M"
      },
      "source": [
        "!pip install tf_slim"
      ],
      "execution_count": null,
      "outputs": []
    },
    {
      "cell_type": "code",
      "metadata": {
        "id": "qgDiuitcNEy6"
      },
      "source": [
        "#!protoc -I=./ --python_out=./ ./object_detection/protos/*.proto\n",
        "!protoc object_detection/protos/*.proto --python_out=."
      ],
      "execution_count": null,
      "outputs": []
    },
    {
      "cell_type": "code",
      "metadata": {
        "id": "RL6IZFmt9Pj4"
      },
      "source": [
        "!python object_detection/export_tflite_ssd_graph.py \\\n",
        "--pipeline_config_path=$CONFIG_FILE \\\n",
        "--trained_checkpoint_prefix=$CHECKPOINT_PATH \\\n",
        "--output_directory=$OUTPUT_DIR \\\n",
        "--add_postprocessing_op=true"
      ],
      "execution_count": null,
      "outputs": []
    },
    {
      "cell_type": "code",
      "source": [
        ""
      ],
      "metadata": {
        "id": "WKynJQLgUikF"
      },
      "execution_count": null,
      "outputs": []
    },
    {
      "cell_type": "code",
      "metadata": {
        "id": "lEV44Uk1_wFA"
      },
      "source": [
        ""
      ],
      "execution_count": null,
      "outputs": []
    }
  ]
}