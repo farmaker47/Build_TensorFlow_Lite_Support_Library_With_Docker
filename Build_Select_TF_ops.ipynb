{
  "nbformat": 4,
  "nbformat_minor": 0,
  "metadata": {
    "colab": {
      "name": "Build_Select_TF_ops.ipynb",
      "provenance": [],
      "collapsed_sections": []
    },
    "kernelspec": {
      "display_name": "Python 3",
      "name": "python3"
    },
    "language_info": {
      "name": "python"
    }
  },
  "cells": [
    {
      "cell_type": "markdown",
      "metadata": {
        "id": "bFF0wwGKvyxw"
      },
      "source": [
        "Licensed under the Apache License, Version 2.0 (the \"License\");\n",
        "you may not use this file except in compliance with the License.\n",
        "You may obtain a copy of the License at\n",
        "    http://www.apache.org/licenses/LICENSE-2.0\n",
        "Unless required by applicable law or agreed to in writing, software\n",
        "distributed under the License is distributed on an \"AS IS\" BASIS,\n",
        "WITHOUT WARRANTIES OR CONDITIONS OF ANY KIND, either express or implied.\n",
        "See the License for the specific language governing permissions and\n",
        "limitations under the License."
      ]
    },
    {
      "cell_type": "markdown",
      "metadata": {
        "id": "_u2bOkHzv4F4"
      },
      "source": [
        "# Build TensorFlow Lite and Select-tf-ops with Bazel "
      ]
    },
    {
      "cell_type": "code",
      "metadata": {
        "id": "S-NOtaam7Ebn"
      },
      "source": [
        "# Create folders\n",
        "!mkdir -p '/android/sdk'\n",
        "\n",
        "# Download and move android SDK tools to specific folders\n",
        "!wget -q 'https://dl.google.com/android/repository/tools_r25.2.5-linux.zip'\n",
        "\n",
        "!unzip 'tools_r25.2.5-linux.zip'\n",
        "!mv '/content/tools' '/android/sdk'\n",
        "# Copy paste the folder\n",
        "!cp -r /android/sdk/tools /android/android-sdk-linux\n",
        "\n",
        "# Download NDK, unzip and move contents\n",
        "!wget 'https://dl.google.com/android/repository/android-ndk-r19c-linux-x86_64.zip'\n",
        "\n",
        "!unzip 'android-ndk-r19c-linux-x86_64.zip'\n",
        "!mv /content/android-ndk-r19c /content/ndk\n",
        "!mv '/content/ndk' '/android'\n",
        "# Copy paste the folder\n",
        "!cp -r /android/ndk /android/android-ndk-r19c\n",
        "\n",
        "# Remove .zip files\n",
        "!rm 'tools_r25.2.5-linux.zip'\n",
        "!rm 'android-ndk-r19c-linux-x86_64.zip'\n",
        "\n",
        "# Make android ndk executable to all users\n",
        "!chmod -R go=u '/android'"
      ],
      "execution_count": null,
      "outputs": []
    },
    {
      "cell_type": "code",
      "metadata": {
        "id": "8IsgIPGwMo9a"
      },
      "source": [
        "# Clone TensorFlow repository\n",
        "!git clone https://github.com/tensorflow/tensorflow.git"
      ],
      "execution_count": null,
      "outputs": []
    },
    {
      "cell_type": "code",
      "metadata": {
        "id": "dTZrWYNwhd7G"
      },
      "source": [
        "# Set and view environment variables\n",
        "%env PATH = /usr/local/nvidia/bin:/usr/local/cuda/bin:/usr/local/sbin:/usr/local/bin:/usr/sbin:/usr/bin:/sbin:/bin:/tools/node/bin:/tools/google-cloud-sdk/bin:/opt/bin:/android/sdk/tools:/android/sdk/platform-tools:/android/ndk\n",
        "%env ANDROID_SDK_API_LEVEL=29\n",
        "%env ANDROID_API_LEVEL=29\n",
        "%env ANDROID_BUILD_TOOLS_VERSION=29.0.2\n",
        "%env ANDROID_DEV_HOME=/android\n",
        "%env ANDROID_NDK_API_LEVEL=21\n",
        "%env ANDROID_NDK_FILENAME=android-ndk-r19c-linux-x86_64.zip\n",
        "%env ANDROID_NDK_HOME=/android/ndk\n",
        "%env ANDROID_NDK_URL=https://dl.google.com/android/repository/android-ndk-r19c-linux-x86_64.zip\n",
        "%env ANDROID_SDK_FILENAME=tools_r25.2.5-linux.zip\n",
        "%env ANDROID_SDK_HOME=/android/sdk\n",
        "#%env ANDROID_HOME=/android/sdk\n",
        "%env ANDROID_SDK_URL=https://dl.google.com/android/repository/tools_r25.2.5-linux.zip\n",
        "\n",
        "#!echo $PATH\n",
        "!export -p"
      ],
      "execution_count": null,
      "outputs": []
    },
    {
      "cell_type": "code",
      "metadata": {
        "id": "e26VrdXdL2U6"
      },
      "source": [
        "# Update sdk, tools etc\n",
        "!android update sdk --no-ui -a \\\n",
        "  --filter tools,platform-tools,android-29,build-tools-29.0.2"
      ],
      "execution_count": null,
      "outputs": []
    },
    {
      "cell_type": "markdown",
      "metadata": {
        "id": "3eAfl3MmySzO"
      },
      "source": [
        "## Install BAZEL"
      ]
    },
    {
      "cell_type": "code",
      "metadata": {
        "id": "QbF3ElHW29cb"
      },
      "source": [
        "# Download Latest version of Bazelisk\n",
        "!wget https://github.com/bazelbuild/bazelisk/releases/latest/download/bazelisk-linux-amd64\n",
        "\n",
        "# Make script executable\n",
        "!chmod +x bazelisk-linux-amd64\n",
        "\n",
        "# Adding to the path\n",
        "!sudo mv bazelisk-linux-amd64 /usr/local/bin/bazel\n",
        "\n",
        "# Extract bazel info\n",
        "!bazel"
      ],
      "execution_count": null,
      "outputs": []
    },
    {
      "cell_type": "code",
      "metadata": {
        "id": "RuWj-4zOJ1Yo"
      },
      "source": [
        "# Move tensorflow folder\n",
        "!mv /content/tensorflow /tensorflow\n",
        "# Rename it\n",
        "!mv /tensorflow /tensorflow_src"
      ],
      "execution_count": null,
      "outputs": []
    },
    {
      "cell_type": "code",
      "metadata": {
        "id": "YHMyHeE2N1KX"
      },
      "source": [
        "# Move inside tensorflow folder and run configure\n",
        "%cd /tensorflow_src\n",
        "!configs=('/usr/bin/python3''/usr/lib/python3/dist-packages''N''N''N''N''-march=native -Wno-sign-compare''y''/android/sdk')\n",
        "\n",
        "# Print some info\n",
        "!printf '%s\\n' \"${configs[@]}\" | ./configure"
      ],
      "execution_count": null,
      "outputs": []
    },
    {
      "cell_type": "code",
      "metadata": {
        "id": "myUr8lVrO0X9"
      },
      "source": [
        "# Pull the latest code from tensorflow.\n",
        "#!git pull -a\n",
        "#!git checkout ${FLAG_CHECKPOINT}"
      ],
      "execution_count": null,
      "outputs": []
    },
    {
      "cell_type": "code",
      "metadata": {
        "id": "vo4HcyGOPB52"
      },
      "source": [
        "# Configure Bazel\n",
        "#!source tensorflow/tools/ci_build/release/common.sh"
      ],
      "execution_count": null,
      "outputs": []
    },
    {
      "cell_type": "markdown",
      "metadata": {
        "id": "cLSLYZqRLnO2"
      },
      "source": [
        "# Build TensorFlow Lite "
      ]
    },
    {
      "cell_type": "code",
      "metadata": {
        "id": "nTPKPCn_Lqa4"
      },
      "source": [
        "!ls"
      ],
      "execution_count": null,
      "outputs": []
    },
    {
      "cell_type": "code",
      "metadata": {
        "id": "0Y0C2YFgL9Im"
      },
      "source": [
        "!bazel build -c opt --cxxopt='--std=c++14' \\\n",
        "    --config=monolithic \\\n",
        "    --fat_apk_cpu=x86,x86_64,arm64-v8a,armeabi-v7a \\\n",
        "    --host_crosstool_top=@bazel_tools//tools/cpp:toolchain \\\n",
        "    //tensorflow/lite/java:tensorflow-lite"
      ],
      "execution_count": null,
      "outputs": []
    },
    {
      "cell_type": "markdown",
      "metadata": {
        "id": "tC6kAPWkkNXT"
      },
      "source": [
        "## Build select-tf-ops"
      ]
    },
    {
      "cell_type": "markdown",
      "metadata": {
        "id": "cyNfCanClg_O"
      },
      "source": [
        "To build custom TensorFlow Lite library and tensorflow-lite-select-tf-ops.aar file navigate to /tensorflow_src/tensorflow/lite/tools and add file https://github.com/farmaker47/Build_TensorFlow_Lite_Support_Library_With_Docker/blob/main/build_select_tf_ops_aar.sh( build_select_tf_ops_aar.sh) Then execute it.\n",
        "\n",
        "For param input_models give the path of the tflite model that contains special ops. \n",
        "\n",
        "With this procedure the final 2 .aar files are of smaller size and can be used inside an android studio project like:\n",
        "https://www.tensorflow.org/lite/guide/build_android#add_aar_directly_to_project"
      ]
    },
    {
      "cell_type": "code",
      "metadata": {
        "id": "9a3rtOKZRO9c"
      },
      "source": [
        "!bash /tensorflow_src/tensorflow/lite/tools/build_select_tf_ops_aar.sh \\\n",
        "  --input_models='/content/BasicTokenizerModel.tflite' \\\n",
        "  --target_archs=arm64-v8a,armeabi-v7a"
      ],
      "execution_count": null,
      "outputs": []
    }
  ]
}